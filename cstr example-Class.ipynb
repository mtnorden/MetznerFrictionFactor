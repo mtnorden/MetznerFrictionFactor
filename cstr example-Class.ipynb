{
 "cells": [
  {
   "cell_type": "markdown",
   "id": "92a95765-804d-4fc8-a219-74acd93574ab",
   "metadata": {},
   "source": [
    "# CSTR exercise\n",
    "\n",
    "William Hartt & Eric Furst  \n",
    "Chemical Engineering with Computers  \n",
    "March 2025\n",
    "\n",
    "This is an example of solving a system of nonlinear algebraic equations relevant to chemical engineering.  There are several topics helpful for your future assignment including:\n",
    "\n",
    "1. Chemical reactions in Latex/Markdown\n",
    "2. Arguements (*args) and keyword arguments (**kwargs) for functions passed to scipy\n",
    "3. Pandas dataframes usage to improve your life\n",
    "4. Using Seaborn to product plots with ease"
   ]
  },
  {
   "cell_type": "code",
   "execution_count": 1,
   "id": "94b36f37-421b-4e21-960f-bc27179beade",
   "metadata": {},
   "outputs": [],
   "source": [
    "import numpy as np\n",
    "from scipy.optimize import root\n",
    "import matplotlib.pyplot as plt\n",
    "import pandas as pd\n",
    "import seaborn as sns"
   ]
  },
  {
   "cell_type": "markdown",
   "id": "5f3f1cb1-e017-4d9e-984f-05a51e70010d",
   "metadata": {},
   "source": [
    "$$\\require{mhchem}$$ \n",
    "\n",
    "# Exercises (in class & hw):\n",
    "1. Place image of CSTR and I/O in notebook\n",
    "2. Create a table of Out = In + Generation - Consumption in the notebook\n",
    "3. Create a table for the rate constants\n",
    "4. Include units everywhere, including pandas dataframe (bonus)\n",
    "\n",
    "## Problem statement - what is the effluent composition leaving a CSTR\n",
    "\n",
    "Reactor volume $V_R$ = 100 liters\n",
    "\n",
    "Volumetric feed rate $Q$ = 50 $\\frac{liters}{sec}$\n",
    "\n",
    "Concentrations in $\\left< \\frac{g-mole}{Liter} \\right>$\n",
    "\n",
    "### Reaction scheme\n",
    "$$\\ce{ A ->[r_1] 2B }$$\n",
    "\n",
    "$$\\ce{ A <=>[r_2][r_3] C}$$\n",
    "\n",
    "$$\\ce{ B ->[r_4] C + D}$$\n",
    "\n",
    "### Rate equations\n",
    "$$r_1 = k_1 C_A$$\n",
    "\n",
    "$$r_2 = k_2 C_A^{\\frac{1}{2}}$$\n",
    "\n",
    "$$r_3 = k_3 C_C^2$$\n",
    "\n",
    "$$r_4 = k_4 C_B^2$$\n",
    "\n",
    "### Rate constants\n",
    "$k_1$ = 1.0 $sec^{-1}$\n",
    "\n",
    "$k_2$ = 0.2 $\\frac{liter^{1/2}}{gmole^{1/2}-sec}$\n",
    "\n",
    "$k_3$ = 0.05 $\\frac{liter}{gmole-sec}$\n",
    "\n",
    "$k_4$ = 0.4 $\\frac{liter}{gmole-sec}$\n",
    "\n",
    "## Task 1 - create tables to make this information look nice\n",
    "\n",
    "Note I used mchem for the Latex chemical reactions.  Use \\ce{ formula here }.  You can use markdown tables, Latex tables, or something fancier.  Feel free to use ChatGPT or similar.  Also include an image of a CSTR in your notebook."
   ]
  },
  {
   "cell_type": "markdown",
   "id": "707ecb3b-5a28-4116-b503-5e8f1355c157",
   "metadata": {},
   "source": [
    "## Step 1 - solve the system for $q=50 \\frac{L^3}{sec}$\n",
    "\n",
    "You have a couple of options for feeding your rate constants, CSTR essentials, and feed rate concentration to your function f(x).  A few options are\n",
    "1. Hard coded into the function - a good place to start but a hassle to change values later\n",
    "2. Arguments (*args) accepted by scipy.optimize.root\n",
    "3. Keyword arguments - **kwargs\n",
    "4. Lambda functions (as shown previously in class)\n",
    "5. There is one other options which is NOT recommended\n"
   ]
  },
  {
   "cell_type": "code",
   "execution_count": 2,
   "id": "403c9b6e-27af-4ac1-99de-b6b4cdec5894",
   "metadata": {},
   "outputs": [],
   "source": [
    "# Hard coded into the function (include units!)\n",
    "\n",
    "def f(x):\n",
    "    k1 = 1.\n",
    "    k2 = 0.2\n",
    "    k3 = 0.05\n",
    "    k4 = 0.4\n",
    "\n",
    "    vr = 100.\n",
    "    q = 50.\n",
    "    ca0 = 1.0\n",
    "\n",
    "    # Class - include comments with x[i] definitions\n",
    "\n",
    "\n",
    "    return [\n",
    "        -x[0]+ ca0 +vr*(-k1*x[0]-k2*x[0]**1.5+k3*x[2]**2)/q,\n",
    "        -x[1]+vr*(2*k1*x[0]-k4*x[1]**2)/q,\n",
    "        -x[2]+vr*(k2*x[0]**1.5-k3*x[2]**2+k4*x[1]**2)/q,\n",
    "        -x[3]+vr*(k4*x[1]**2)/q\n",
    "    ]"
   ]
  },
  {
   "cell_type": "code",
   "execution_count": 3,
   "id": "66f6ee30-c5f6-4945-ac0a-c39100184f70",
   "metadata": {},
   "outputs": [
    {
     "data": {
      "text/plain": [
       " message: The solution converged.\n",
       " success: True\n",
       "  status: 1\n",
       "     fun: [-8.882e-16 -3.331e-16  1.221e-15  3.886e-16]\n",
       "       x: [ 3.189e-01  7.839e-01  5.350e-01  4.916e-01]\n",
       "  method: hybr\n",
       "    nfev: 17\n",
       "    fjac: [[-6.977e-01  5.537e-01  3.538e-01  2.856e-01]\n",
       "           [ 1.819e-01  7.503e-01 -4.708e-01 -4.270e-01]\n",
       "           [-4.747e-01 -2.294e-01 -8.025e-01  2.793e-01]\n",
       "           [ 5.048e-01  2.790e-01 -9.600e-02  8.112e-01]]\n",
       "       r: [ 4.766e+00 -4.325e-01 -4.027e-01 -3.094e-01 -1.970e+00\n",
       "            9.085e-01  8.676e-01  8.859e-01 -2.006e-01 -9.271e-01]\n",
       "     qtf: [ 1.251e-11 -1.839e-11 -5.677e-12 -3.916e-12]"
      ]
     },
     "execution_count": 3,
     "metadata": {},
     "output_type": "execute_result"
    }
   ],
   "source": [
    "# Solve the system\n",
    "\n",
    "x = [0.,0.,0.,0.]\n",
    "sol = root(f,x)\n",
    "sol"
   ]
  },
  {
   "cell_type": "code",
   "execution_count": 4,
   "id": "434397fb-5e26-48a2-8570-cb38b8dc72cd",
   "metadata": {
    "scrolled": true
   },
   "outputs": [
    {
     "name": "stdout",
     "output_type": "stream",
     "text": [
      "\u001b[1;31mSignature:\u001b[0m\n",
      " \u001b[0mroot\u001b[0m\u001b[1;33m(\u001b[0m\u001b[1;33m\n",
      "\u001b[0m    \u001b[0mfun\u001b[0m\u001b[1;33m,\u001b[0m\u001b[1;33m\n",
      "\u001b[0m    \u001b[0mx0\u001b[0m\u001b[1;33m,\u001b[0m\u001b[1;33m\n",
      "\u001b[0m    \u001b[0margs\u001b[0m\u001b[1;33m=\u001b[0m\u001b[1;33m(\u001b[0m\u001b[1;33m)\u001b[0m\u001b[1;33m,\u001b[0m\u001b[1;33m\n",
      "\u001b[0m    \u001b[0mmethod\u001b[0m\u001b[1;33m=\u001b[0m\u001b[1;34m'hybr'\u001b[0m\u001b[1;33m,\u001b[0m\u001b[1;33m\n",
      "\u001b[0m    \u001b[0mjac\u001b[0m\u001b[1;33m=\u001b[0m\u001b[1;32mNone\u001b[0m\u001b[1;33m,\u001b[0m\u001b[1;33m\n",
      "\u001b[0m    \u001b[0mtol\u001b[0m\u001b[1;33m=\u001b[0m\u001b[1;32mNone\u001b[0m\u001b[1;33m,\u001b[0m\u001b[1;33m\n",
      "\u001b[0m    \u001b[0mcallback\u001b[0m\u001b[1;33m=\u001b[0m\u001b[1;32mNone\u001b[0m\u001b[1;33m,\u001b[0m\u001b[1;33m\n",
      "\u001b[0m    \u001b[0moptions\u001b[0m\u001b[1;33m=\u001b[0m\u001b[1;32mNone\u001b[0m\u001b[1;33m,\u001b[0m\u001b[1;33m\n",
      "\u001b[0m\u001b[1;33m)\u001b[0m\u001b[1;33m\u001b[0m\u001b[1;33m\u001b[0m\u001b[0m\n",
      "\u001b[1;31mDocstring:\u001b[0m\n",
      "Find a root of a vector function.\n",
      "\n",
      "Parameters\n",
      "----------\n",
      "fun : callable\n",
      "    A vector function to find a root of.\n",
      "\n",
      "    Suppose the callable has signature ``f0(x, *my_args, **my_kwargs)``, where\n",
      "    ``my_args`` and ``my_kwargs`` are required positional and keyword arguments.\n",
      "    Rather than passing ``f0`` as the callable, wrap it to accept\n",
      "    only ``x``; e.g., pass ``fun=lambda x: f0(x, *my_args, **my_kwargs)`` as the\n",
      "    callable, where ``my_args`` (tuple) and ``my_kwargs`` (dict) have been\n",
      "    gathered before invoking this function.\n",
      "x0 : ndarray\n",
      "    Initial guess.\n",
      "args : tuple, optional\n",
      "    Extra arguments passed to the objective function and its Jacobian.\n",
      "method : str, optional\n",
      "    Type of solver. Should be one of\n",
      "\n",
      "    - 'hybr'             :ref:`(see here) <optimize.root-hybr>`\n",
      "    - 'lm'               :ref:`(see here) <optimize.root-lm>`\n",
      "    - 'broyden1'         :ref:`(see here) <optimize.root-broyden1>`\n",
      "    - 'broyden2'         :ref:`(see here) <optimize.root-broyden2>`\n",
      "    - 'anderson'         :ref:`(see here) <optimize.root-anderson>`\n",
      "    - 'linearmixing'     :ref:`(see here) <optimize.root-linearmixing>`\n",
      "    - 'diagbroyden'      :ref:`(see here) <optimize.root-diagbroyden>`\n",
      "    - 'excitingmixing'   :ref:`(see here) <optimize.root-excitingmixing>`\n",
      "    - 'krylov'           :ref:`(see here) <optimize.root-krylov>`\n",
      "    - 'df-sane'          :ref:`(see here) <optimize.root-dfsane>`\n",
      "\n",
      "jac : bool or callable, optional\n",
      "    If `jac` is a Boolean and is True, `fun` is assumed to return the\n",
      "    value of Jacobian along with the objective function. If False, the\n",
      "    Jacobian will be estimated numerically.\n",
      "    `jac` can also be a callable returning the Jacobian of `fun`. In\n",
      "    this case, it must accept the same arguments as `fun`.\n",
      "tol : float, optional\n",
      "    Tolerance for termination. For detailed control, use solver-specific\n",
      "    options.\n",
      "callback : function, optional\n",
      "    Optional callback function. It is called on every iteration as\n",
      "    ``callback(x, f)`` where `x` is the current solution and `f`\n",
      "    the corresponding residual. For all methods but 'hybr' and 'lm'.\n",
      "options : dict, optional\n",
      "    A dictionary of solver options. E.g., `xtol` or `maxiter`, see\n",
      "    :obj:`show_options()` for details.\n",
      "\n",
      "Returns\n",
      "-------\n",
      "sol : OptimizeResult\n",
      "    The solution represented as a ``OptimizeResult`` object.\n",
      "    Important attributes are: ``x`` the solution array, ``success`` a\n",
      "    Boolean flag indicating if the algorithm exited successfully and\n",
      "    ``message`` which describes the cause of the termination. See\n",
      "    `OptimizeResult` for a description of other attributes.\n",
      "\n",
      "See also\n",
      "--------\n",
      "show_options : Additional options accepted by the solvers\n",
      "\n",
      "Notes\n",
      "-----\n",
      "This section describes the available solvers that can be selected by the\n",
      "'method' parameter. The default method is *hybr*.\n",
      "\n",
      "Method *hybr* uses a modification of the Powell hybrid method as\n",
      "implemented in MINPACK [1]_.\n",
      "\n",
      "Method *lm* solves the system of nonlinear equations in a least squares\n",
      "sense using a modification of the Levenberg-Marquardt algorithm as\n",
      "implemented in MINPACK [1]_.\n",
      "\n",
      "Method *df-sane* is a derivative-free spectral method. [3]_\n",
      "\n",
      "Methods *broyden1*, *broyden2*, *anderson*, *linearmixing*,\n",
      "*diagbroyden*, *excitingmixing*, *krylov* are inexact Newton methods,\n",
      "with backtracking or full line searches [2]_. Each method corresponds\n",
      "to a particular Jacobian approximations.\n",
      "\n",
      "- Method *broyden1* uses Broyden's first Jacobian approximation, it is\n",
      "  known as Broyden's good method.\n",
      "- Method *broyden2* uses Broyden's second Jacobian approximation, it\n",
      "  is known as Broyden's bad method.\n",
      "- Method *anderson* uses (extended) Anderson mixing.\n",
      "- Method *Krylov* uses Krylov approximation for inverse Jacobian. It\n",
      "  is suitable for large-scale problem.\n",
      "- Method *diagbroyden* uses diagonal Broyden Jacobian approximation.\n",
      "- Method *linearmixing* uses a scalar Jacobian approximation.\n",
      "- Method *excitingmixing* uses a tuned diagonal Jacobian\n",
      "  approximation.\n",
      "\n",
      ".. warning::\n",
      "\n",
      "    The algorithms implemented for methods *diagbroyden*,\n",
      "    *linearmixing* and *excitingmixing* may be useful for specific\n",
      "    problems, but whether they will work may depend strongly on the\n",
      "    problem.\n",
      "\n",
      ".. versionadded:: 0.11.0\n",
      "\n",
      "References\n",
      "----------\n",
      ".. [1] More, Jorge J., Burton S. Garbow, and Kenneth E. Hillstrom.\n",
      "   1980. User Guide for MINPACK-1.\n",
      ".. [2] C. T. Kelley. 1995. Iterative Methods for Linear and Nonlinear\n",
      "   Equations. Society for Industrial and Applied Mathematics.\n",
      "   <https://archive.siam.org/books/kelley/fr16/>\n",
      ".. [3] W. La Cruz, J.M. Martinez, M. Raydan. Math. Comp. 75, 1429 (2006).\n",
      "\n",
      "Examples\n",
      "--------\n",
      "The following functions define a system of nonlinear equations and its\n",
      "jacobian.\n",
      "\n",
      ">>> import numpy as np\n",
      ">>> def fun(x):\n",
      "...     return [x[0]  + 0.5 * (x[0] - x[1])**3 - 1.0,\n",
      "...             0.5 * (x[1] - x[0])**3 + x[1]]\n",
      "\n",
      ">>> def jac(x):\n",
      "...     return np.array([[1 + 1.5 * (x[0] - x[1])**2,\n",
      "...                       -1.5 * (x[0] - x[1])**2],\n",
      "...                      [-1.5 * (x[1] - x[0])**2,\n",
      "...                       1 + 1.5 * (x[1] - x[0])**2]])\n",
      "\n",
      "A solution can be obtained as follows.\n",
      "\n",
      ">>> from scipy import optimize\n",
      ">>> sol = optimize.root(fun, [0, 0], jac=jac, method='hybr')\n",
      ">>> sol.x\n",
      "array([ 0.8411639,  0.1588361])\n",
      "\n",
      "**Large problem**\n",
      "\n",
      "Suppose that we needed to solve the following integrodifferential\n",
      "equation on the square :math:`[0,1]\\times[0,1]`:\n",
      "\n",
      ".. math::\n",
      "\n",
      "   \\nabla^2 P = 10 \\left(\\int_0^1\\int_0^1\\cosh(P)\\,dx\\,dy\\right)^2\n",
      "\n",
      "with :math:`P(x,1) = 1` and :math:`P=0` elsewhere on the boundary of\n",
      "the square.\n",
      "\n",
      "The solution can be found using the ``method='krylov'`` solver:\n",
      "\n",
      ">>> from scipy import optimize\n",
      ">>> # parameters\n",
      ">>> nx, ny = 75, 75\n",
      ">>> hx, hy = 1./(nx-1), 1./(ny-1)\n",
      "\n",
      ">>> P_left, P_right = 0, 0\n",
      ">>> P_top, P_bottom = 1, 0\n",
      "\n",
      ">>> def residual(P):\n",
      "...    d2x = np.zeros_like(P)\n",
      "...    d2y = np.zeros_like(P)\n",
      "...\n",
      "...    d2x[1:-1] = (P[2:]   - 2*P[1:-1] + P[:-2]) / hx/hx\n",
      "...    d2x[0]    = (P[1]    - 2*P[0]    + P_left)/hx/hx\n",
      "...    d2x[-1]   = (P_right - 2*P[-1]   + P[-2])/hx/hx\n",
      "...\n",
      "...    d2y[:,1:-1] = (P[:,2:] - 2*P[:,1:-1] + P[:,:-2])/hy/hy\n",
      "...    d2y[:,0]    = (P[:,1]  - 2*P[:,0]    + P_bottom)/hy/hy\n",
      "...    d2y[:,-1]   = (P_top   - 2*P[:,-1]   + P[:,-2])/hy/hy\n",
      "...\n",
      "...    return d2x + d2y - 10*np.cosh(P).mean()**2\n",
      "\n",
      ">>> guess = np.zeros((nx, ny), float)\n",
      ">>> sol = optimize.root(residual, guess, method='krylov')\n",
      ">>> print('Residual: %g' % abs(residual(sol.x)).max())\n",
      "Residual: 5.7972e-06  # may vary\n",
      "\n",
      ">>> import matplotlib.pyplot as plt\n",
      ">>> x, y = np.mgrid[0:1:(nx*1j), 0:1:(ny*1j)]\n",
      ">>> plt.pcolormesh(x, y, sol.x, shading='gouraud')\n",
      ">>> plt.colorbar()\n",
      ">>> plt.show()\n",
      "\u001b[1;31mFile:\u001b[0m      c:\\users\\mtnor\\source\\repos\\metznerfrictionfactor\\.venv\\lib\\site-packages\\scipy\\optimize\\_root.py\n",
      "\u001b[1;31mType:\u001b[0m      function"
     ]
    }
   ],
   "source": [
    "? root"
   ]
  },
  {
   "cell_type": "markdown",
   "id": "7bf39352-1272-4dbe-9533-57435c70317c",
   "metadata": {},
   "source": [
    "## *args\n",
    "\n",
    "Useful, but not as obvious the user what's happening - the arguments in f_a are not labelled.  You need to know the correct type and order.  Note this is the only other direct option for using scipy.optimize.root."
   ]
  },
  {
   "cell_type": "code",
   "execution_count": 5,
   "id": "492d7d83-1e56-4236-9674-1802e21a908f",
   "metadata": {},
   "outputs": [],
   "source": [
    "# *args\n",
    "\n",
    "def f_a(x,*args):\n",
    "\n",
    "    k,vr,q,ca0 = args # Note k must be a list of 4 floating point numbers\n",
    "\n",
    "    return [\n",
    "        -x[0]+ ca0 +vr*(-k[0]*x[0]-k[1]*x[0]**1.5+k[2]*x[2]**2)/q,\n",
    "        -x[1]+vr*(2*k[0]*x[0]-k[3]*x[1]**2)/q,\n",
    "        -x[2]+vr*(k[1]*x[0]**1.5-k[2]*x[2]**2+k[3]*x[1]**2)/q,\n",
    "        -x[3]+vr*(k[3]*x[1]**2)/q\n",
    "    ]"
   ]
  },
  {
   "cell_type": "code",
   "execution_count": 6,
   "id": "f4ba906b-0b85-4a25-8a42-80169ab903a3",
   "metadata": {},
   "outputs": [
    {
     "data": {
      "text/plain": [
       " message: The solution converged.\n",
       " success: True\n",
       "  status: 1\n",
       "     fun: [-8.882e-16 -3.331e-16  1.221e-15  3.886e-16]\n",
       "       x: [ 3.189e-01  7.839e-01  5.350e-01  4.916e-01]\n",
       "  method: hybr\n",
       "    nfev: 17\n",
       "    fjac: [[-6.977e-01  5.537e-01  3.538e-01  2.856e-01]\n",
       "           [ 1.819e-01  7.503e-01 -4.708e-01 -4.270e-01]\n",
       "           [-4.747e-01 -2.294e-01 -8.025e-01  2.793e-01]\n",
       "           [ 5.048e-01  2.790e-01 -9.600e-02  8.112e-01]]\n",
       "       r: [ 4.766e+00 -4.325e-01 -4.027e-01 -3.094e-01 -1.970e+00\n",
       "            9.085e-01  8.676e-01  8.859e-01 -2.006e-01 -9.271e-01]\n",
       "     qtf: [ 1.251e-11 -1.839e-11 -5.677e-12 -3.916e-12]"
      ]
     },
     "execution_count": 6,
     "metadata": {},
     "output_type": "execute_result"
    }
   ],
   "source": [
    "x0 = [0.,0.,0.,0.]\n",
    "\n",
    "k = [1.,.2,.05,.4]\n",
    "vr = 100.\n",
    "q = 50.\n",
    "ca0 = 1.0\n",
    "\n",
    "sol = root(f_a, x0, args=(k,vr,q,ca0))\n",
    "sol"
   ]
  },
  {
   "cell_type": "markdown",
   "id": "3cc1814e-dc29-41ed-9fb2-ffb3d37d07fd",
   "metadata": {},
   "source": [
    "## **kwargs\n",
    "\n",
    "Very useful:\n",
    "1. Default values exist\n",
    "2. It's obvious to the user what each argument is\n",
    "3. Downside - need to use lambda functions now (this was not alwats the case)"
   ]
  },
  {
   "cell_type": "code",
   "execution_count": 7,
   "id": "5958160f-dc31-485f-92b5-fdfecd5b1825",
   "metadata": {},
   "outputs": [],
   "source": [
    "# **kwargs\n",
    "\n",
    "def f_kw(x,**kwargs):\n",
    "\n",
    "    # Default values used if no args passed\n",
    "    k = kwargs.get('k',[1.,.2,.05,.4])\n",
    "    vr = kwargs.get('vr', 100.)\n",
    "    q = kwargs.get('q', 50.)\n",
    "    ca0 = kwargs.get('ca0', 1.0)\n",
    "\n",
    "    return [\n",
    "        -x[0]+ ca0 +vr*(-k[0]*x[0]-k[1]*x[0]**1.5+k[2]*x[2]**2)/q,\n",
    "        -x[1]+vr*(2*k[0]*x[0]-k[3]*x[1]**2)/q,\n",
    "        -x[2]+vr*(k[1]*x[0]**1.5-k[2]*x[2]**2+k[3]*x[1]**2)/q,\n",
    "        -x[3]+vr*(k[3]*x[1]**2)/q\n",
    "    ]"
   ]
  },
  {
   "cell_type": "code",
   "execution_count": 8,
   "id": "84cda34f-98b7-45cd-972d-0fa6afde117c",
   "metadata": {},
   "outputs": [
    {
     "data": {
      "text/plain": [
       " message: The solution converged.\n",
       " success: True\n",
       "  status: 1\n",
       "     fun: [-8.882e-16 -3.331e-16  1.221e-15  3.886e-16]\n",
       "       x: [ 3.189e-01  7.839e-01  5.350e-01  4.916e-01]\n",
       "  method: hybr\n",
       "    nfev: 17\n",
       "    fjac: [[-6.977e-01  5.537e-01  3.538e-01  2.856e-01]\n",
       "           [ 1.819e-01  7.503e-01 -4.708e-01 -4.270e-01]\n",
       "           [-4.747e-01 -2.294e-01 -8.025e-01  2.793e-01]\n",
       "           [ 5.048e-01  2.790e-01 -9.600e-02  8.112e-01]]\n",
       "       r: [ 4.766e+00 -4.325e-01 -4.027e-01 -3.094e-01 -1.970e+00\n",
       "            9.085e-01  8.676e-01  8.859e-01 -2.006e-01 -9.271e-01]\n",
       "     qtf: [ 1.251e-11 -1.839e-11 -5.677e-12 -3.916e-12]"
      ]
     },
     "execution_count": 8,
     "metadata": {},
     "output_type": "execute_result"
    }
   ],
   "source": [
    "x0 = [0.,0.,0.,0.]\n",
    "\n",
    "sol = root(f_kw, x0)\n",
    "sol"
   ]
  },
  {
   "cell_type": "markdown",
   "id": "41fe5a31-8a66-40b8-a30e-b844d27c8e09",
   "metadata": {},
   "source": [
    "### Let's change the rate constants"
   ]
  },
  {
   "cell_type": "code",
   "execution_count": 9,
   "id": "3f729f65-b347-4e42-8610-56ad62129338",
   "metadata": {},
   "outputs": [
    {
     "data": {
      "text/plain": [
       " message: The solution converged.\n",
       " success: True\n",
       "  status: 1\n",
       "     fun: [-1.998e-15  9.992e-16  8.882e-16 -8.882e-16]\n",
       "       x: [ 3.383e-01  8.179e-01  5.204e-01  5.352e-01]\n",
       "  method: hybr\n",
       "    nfev: 17\n",
       "    fjac: [[-6.920e-01  5.583e-01  3.477e-01  2.976e-01]\n",
       "           [ 1.832e-01  7.491e-01 -4.787e-01 -4.197e-01]\n",
       "           [-4.610e-01 -2.318e-01 -8.023e-01  3.001e-01]\n",
       "           [ 5.244e-01  2.711e-01 -7.925e-02  8.032e-01]]\n",
       "       r: [ 4.673e+00 -3.909e-01 -4.635e-01 -3.775e-01 -2.020e+00\n",
       "            1.016e+00  9.017e-01  9.106e-01 -2.084e-01 -8.932e-01]\n",
       "     qtf: [-2.927e-11 -3.038e-12  6.314e-12  2.385e-11]"
      ]
     },
     "execution_count": 9,
     "metadata": {},
     "output_type": "execute_result"
    }
   ],
   "source": [
    "# Change rate constants\n",
    "\n",
    "x0 = [0.,0.,0.,0.]\n",
    "new_k = [1.,.1,.1,.4]\n",
    "f = lambda x: f_kw(x,k=new_k)\n",
    "\n",
    "sol = root(f, x0)\n",
    "sol"
   ]
  },
  {
   "cell_type": "code",
   "execution_count": 10,
   "id": "6ca99f2e-74a6-4b72-bc74-5022cab244d3",
   "metadata": {},
   "outputs": [
    {
     "data": {
      "text/plain": [
       " message: The solution converged.\n",
       " success: True\n",
       "  status: 1\n",
       "     fun: [-7.483e-14 -2.564e-12  2.639e-12  2.564e-12]\n",
       "       x: [ 2.147e-01  7.696e-01  8.744e-01  9.477e-01]\n",
       "  method: hybr\n",
       "    nfev: 25\n",
       "    fjac: [[ 5.302e-01 -2.059e-01 -6.089e-01 -5.530e-01]\n",
       "           [ 1.830e-01 -9.194e-01  2.562e-01  2.356e-01]\n",
       "           [ 4.144e-01  1.658e-01  7.492e-01 -4.894e-01]\n",
       "           [-7.168e-01 -2.912e-01  4.815e-02 -6.318e-01]]\n",
       "       r: [-1.054e+01 -1.198e+00  1.278e+00  1.204e+00  2.792e+00\n",
       "           -1.017e+00 -1.061e+00 -8.463e-01  4.066e-01  7.372e-01]\n",
       "     qtf: [ 1.057e-09 -1.507e-09 -1.115e-10  2.864e-10]"
      ]
     },
     "execution_count": 10,
     "metadata": {},
     "output_type": "execute_result"
    }
   ],
   "source": [
    "# Change reactor volume\n",
    "\n",
    "x0 = [0.,0.,0.,0.]\n",
    "f = lambda x: f_kw(x,vr=200.)\n",
    "\n",
    "sol = root(f, x0)\n",
    "sol"
   ]
  },
  {
   "cell_type": "markdown",
   "id": "61f1abac-b6b7-4cc9-84c5-6353479a9efa",
   "metadata": {},
   "source": [
    "## Step 2 - examine the effect of flow rate\n",
    "\n",
    "Try from 10-60 $L^3/sec$\n",
    "\n",
    "Do you run into any issues?  Resort to 20-60 $L^3/sec$ if needed.\n",
    "\n",
    "\n",
    "### Bonus = Vectorize this"
   ]
  },
  {
   "cell_type": "code",
   "execution_count": 11,
   "id": "bff1cfcb-e547-4185-a80a-33a65c779bf0",
   "metadata": {},
   "outputs": [
    {
     "data": {
      "text/plain": [
       " message: The solution converged.\n",
       " success: True\n",
       "  status: 1\n",
       "     fun: [ 6.110e-12 -1.164e-12 -4.946e-12  1.164e-12]\n",
       "       x: [ 1.949e-01  7.684e-01  1.011e+00  1.181e+00]\n",
       "  method: hybr\n",
       "    nfev: 28\n",
       "    fjac: [[-3.973e-01 -2.767e-02  6.661e-01  6.306e-01]\n",
       "           [-2.924e-01  9.512e-01 -7.899e-02 -5.903e-02]\n",
       "           [ 3.568e-01  1.370e-01  7.411e-01 -5.520e-01]\n",
       "           [-7.933e-01 -2.751e-01  2.883e-02 -5.424e-01]]\n",
       "       r: [ 1.659e+01  2.324e+00 -1.766e+00 -1.760e+00 -2.691e+00\n",
       "            8.020e-01  8.797e-01 -8.415e-01  4.737e-01  6.452e-01]\n",
       "     qtf: [-4.319e-10 -2.263e-10 -2.000e-10 -4.639e-10]"
      ]
     },
     "execution_count": 11,
     "metadata": {},
     "output_type": "execute_result"
    }
   ],
   "source": [
    "# Change rate constants\n",
    "\n",
    "q = 20.0\n",
    "\n",
    "f = lambda x: f_kw(x,q=q)\n",
    "\n",
    "sol = root(f, x0)\n",
    "sol"
   ]
  },
  {
   "cell_type": "markdown",
   "id": "7ace93bb-04b3-4356-936b-58d74ac67e52",
   "metadata": {},
   "source": [
    "## Create a list/array of results for different flow rates"
   ]
  },
  {
   "cell_type": "code",
   "execution_count": 12,
   "id": "98f4a3b0-6b7a-45d3-b26c-5f688bba8071",
   "metadata": {},
   "outputs": [
    {
     "data": {
      "text/plain": [
       "[array([0.18523342, 0.79297099, 1.25668508, 1.676808  ]),\n",
       " array([0.19014531, 0.77084935, 1.06681782, 1.28477562]),\n",
       " array([0.20236605, 0.76781123, 0.94966841, 1.07188016]),\n",
       " array([0.21679294, 0.7700871 , 0.86328833, 0.93024964]),\n",
       " array([0.23192967, 0.77374583, 0.79408198, 0.82576912]),\n",
       " array([0.24717589, 0.77735403, 0.73601127, 0.74372835]),\n",
       " array([0.26225099, 0.78034749, 0.68587649, 0.67660245]),\n",
       " array([0.2770135 , 0.78251666, 0.64176985, 0.62008336]),\n",
       " array([0.2913906 , 0.78380967, 0.60245229, 0.57149544]),\n",
       " array([0.30534634, 0.78424744, 0.56706501, 0.52907015]),\n",
       " array([0.31886581, 0.78388398, 0.53498184, 0.49157927])]"
      ]
     },
     "execution_count": 12,
     "metadata": {},
     "output_type": "execute_result"
    }
   ],
   "source": [
    "# Iterate over a list of flow rates\n",
    "\n",
    "x0 = [0.,0.,0.,0.]\n",
    "q_list = np.linspace(15.,50.,11)\n",
    "\n",
    "sol_list = [ root(lambda x: f_kw(x,q=q_new),x0).x for q_new in q_list ]\n",
    "sol_list"
   ]
  },
  {
   "cell_type": "markdown",
   "id": "e6569847-285a-4ddc-9a9a-537b06a520ef",
   "metadata": {},
   "source": [
    "## Write a function that returns the solution over a list of flow rates\n",
    "\n",
    "Name the function 'conc'  \n",
    "Arguments should be q, f_kw, x0"
   ]
  },
  {
   "cell_type": "code",
   "execution_count": 20,
   "id": "4326bec1-5de1-4505-a471-07fcd43ca36d",
   "metadata": {},
   "outputs": [],
   "source": [
    "def conc(q,f_kw,x0):\n",
    "    sol = root(lambda x: f_kw(x,q=q),x0).x\n",
    "    return sol\n"
   ]
  },
  {
   "cell_type": "code",
   "execution_count": 21,
   "id": "9abadbfe-005e-4e13-8957-2476b2c390c2",
   "metadata": {},
   "outputs": [],
   "source": [
    "# create a list of flow rates\n",
    "qList = np.linspace(15,50,11)"
   ]
  },
  {
   "cell_type": "code",
   "execution_count": 22,
   "id": "78d7263e-d106-4188-8c15-f94dbf4e11e2",
   "metadata": {},
   "outputs": [
    {
     "name": "stdout",
     "output_type": "stream",
     "text": [
      "15.0 [0.18523342 0.79297099 1.25668508 1.676808  ]\n",
      "18.5 [0.19014531 0.77084935 1.06681782 1.28477562]\n",
      "22.0 [0.20236605 0.76781123 0.94966841 1.07188016]\n",
      "25.5 [0.21679294 0.7700871  0.86328833 0.93024964]\n",
      "29.0 [0.23192967 0.77374583 0.79408198 0.82576912]\n",
      "32.5 [0.24717589 0.77735403 0.73601127 0.74372835]\n",
      "36.0 [0.26225099 0.78034749 0.68587649 0.67660245]\n",
      "39.5 [0.2770135  0.78251666 0.64176985 0.62008336]\n",
      "43.0 [0.2913906  0.78380967 0.60245229 0.57149544]\n",
      "46.5 [0.30534634 0.78424744 0.56706501 0.52907015]\n",
      "50.0 [0.31886581 0.78388398 0.53498184 0.49157927]\n"
     ]
    }
   ],
   "source": [
    "# Test your function here\n",
    "\n",
    "x0 = [0.,0.,0.,0.]\n",
    "\n",
    "for q in qList:\n",
    "    cs = conc(q,f_kw,x0)\n",
    "    print(q,cs)"
   ]
  },
  {
   "cell_type": "code",
   "execution_count": 23,
   "id": "99e006df-1b38-4adf-9b5a-674e53595df5",
   "metadata": {},
   "outputs": [
    {
     "name": "stderr",
     "output_type": "stream",
     "text": [
      "C:\\Users\\mtnor\\AppData\\Local\\Temp\\ipykernel_41680\\361613151.py:12: RuntimeWarning: invalid value encountered in scalar power\n",
      "  -x[0]+ ca0 +vr*(-k[0]*x[0]-k[1]*x[0]**1.5+k[2]*x[2]**2)/q,\n",
      "C:\\Users\\mtnor\\AppData\\Local\\Temp\\ipykernel_41680\\361613151.py:14: RuntimeWarning: invalid value encountered in scalar power\n",
      "  -x[2]+vr*(k[1]*x[0]**1.5-k[2]*x[2]**2+k[3]*x[1]**2)/q,\n"
     ]
    },
    {
     "data": {
      "text/plain": [
       "[array([0., 0., 0., 0.]),\n",
       " array([0.1917717 , 0.826629  , 1.41988705, 2.04994651]),\n",
       " array([0.18594692, 0.77814393, 1.15159069, 1.45321915]),\n",
       " array([0.1949378 , 0.76842477, 1.01132644, 1.18095326]),\n",
       " array([0.20771528, 0.76835496, 0.91413811, 1.01206174]),\n",
       " array([0.22179927, 0.77125141, 0.83869658, 0.8922431 ]),\n",
       " array([0.23629059, 0.77481648, 0.77652822, 0.80045409]),\n",
       " array([0.25078759, 0.77813417, 0.723441  , 0.72659134]),\n",
       " array([0.26508992, 0.78082728, 0.6770553 , 0.66511772]),\n",
       " array([0.27909211, 0.78275507, 0.6358831 , 0.61270549]),\n",
       " array([0.29273823, 0.78388752, 0.598924  , 0.56721199]),\n",
       " array([0.30600007, 0.7842478 , 0.56546657, 0.52718109]),\n",
       " array([0.31886581, 0.78388398, 0.53498184, 0.49157927]),\n",
       " array([0.33133355, 0.78285469, 0.50706216, 0.4596461 ]),\n",
       " array([0.34340755, 0.78122159, 0.48138419, 0.43080506]),\n",
       " array([0.35509594, 0.77904536, 0.45768527, 0.40460778])]"
      ]
     },
     "execution_count": 23,
     "metadata": {},
     "output_type": "execute_result"
    }
   ],
   "source": [
    "q_list = np.linspace(10.,60.,16)\n",
    "x0 = [0.,0.,0.,0.]\n",
    "\n",
    "x_list = []\n",
    "\n",
    "for q in q_list:\n",
    "    cs = conc(q,f_kw,x0)\n",
    "    x_list.append(cs)\n",
    "    if np.isnan(cs[0]):\n",
    "        x0 = [0.,0.,0.,0.]\n",
    "    else:\n",
    "        x0 = cs\n",
    "x_list"
   ]
  },
  {
   "cell_type": "code",
   "execution_count": 24,
   "id": "2e7740e6-b390-49c6-9010-18307e1693ce",
   "metadata": {},
   "outputs": [
    {
     "data": {
      "text/plain": [
       "[<matplotlib.lines.Line2D at 0x285b3987530>,\n",
       " <matplotlib.lines.Line2D at 0x285b3a41280>,\n",
       " <matplotlib.lines.Line2D at 0x285b3a4d850>,\n",
       " <matplotlib.lines.Line2D at 0x285b3938cb0>]"
      ]
     },
     "execution_count": 24,
     "metadata": {},
     "output_type": "execute_result"
    },
    {
     "data": {
      "image/png": "[encoded data removed]",
      "text/plain": [
       "<Figure size 640x480 with 1 Axes>"
      ]
     },
     "metadata": {},
     "output_type": "display_data"
    }
   ],
   "source": [
    "plt.plot(q_list,x_list)"
   ]
  },
  {
   "cell_type": "markdown",
   "id": "05e75cc3-adf8-4a84-a24d-a4821d22aba7",
   "metadata": {},
   "source": [
    "## Try $q = 10 \\frac{Liters^3}{sec}$\n",
    "\n",
    "What happens?\n",
    "\n",
    "What happens when we start our q_list from 10?"
   ]
  },
  {
   "cell_type": "code",
   "execution_count": 25,
   "id": "5224e294-6b02-4929-9de5-95c2cdc1d43b",
   "metadata": {},
   "outputs": [
    {
     "data": {
      "text/plain": [
       " message: The solution converged.\n",
       " success: True\n",
       "  status: 1\n",
       "     fun: [ 8.216e-15  7.216e-15 -1.532e-14 -7.105e-15]\n",
       "       x: [ 2.155e-01  8.989e-01  1.682e+00  2.693e+00]\n",
       "  method: hybr\n",
       "    nfev: 36\n",
       "    fjac: [[ 1.483e-01  3.253e-01 -6.327e-01 -6.869e-01]\n",
       "           [ 3.020e-01 -9.120e-01 -1.348e-01 -2.426e-01]\n",
       "           [-1.155e-01 -9.378e-02 -7.609e-01  6.315e-01]\n",
       "           [ 9.346e-01  2.315e-01  4.990e-02  2.654e-01]]\n",
       "       r: [-4.609e+01 -4.786e+00  2.470e+00  2.884e+00  2.365e+00\n",
       "           -3.551e-01 -3.794e-01  8.983e-01 -5.001e-01 -2.540e-01]\n",
       "     qtf: [-5.088e-10  5.572e-12 -1.565e-10 -1.880e-10]"
      ]
     },
     "execution_count": 25,
     "metadata": {},
     "output_type": "execute_result"
    }
   ],
   "source": [
    "x0 = [0.,0.,0.,0.]\n",
    "q = 12.0\n",
    "\n",
    "new_f = lambda x: f_kw(x,q=q)\n",
    "sol = root(new_f,x0)\n",
    "sol"
   ]
  },
  {
   "cell_type": "markdown",
   "id": "90ed6da3-8e68-43b1-a866-3972c5b82e76",
   "metadata": {},
   "source": [
    "### We will return to low flow rates later"
   ]
  },
  {
   "cell_type": "code",
   "execution_count": 26,
   "id": "a8fd4aa6-2aa7-445a-8993-4fabe6de954b",
   "metadata": {},
   "outputs": [
    {
     "data": {
      "text/plain": [
       "[array([0.1949378 , 0.76842477, 1.01132644, 1.18095326]),\n",
       " array([0.21046789, 0.76880282, 0.89767884, 0.98509629]),\n",
       " array([0.22757592, 0.7726663 , 0.81252893, 0.85287601]),\n",
       " array([0.24500377, 0.77686824, 0.74376477, 0.75440533]),\n",
       " array([0.26225099, 0.78034749, 0.68587649, 0.67660245]),\n",
       " array([0.27909211, 0.78275507, 0.6358831 , 0.61270549]),\n",
       " array([0.2954219 , 0.78402005, 0.59197146, 0.55880677]),\n",
       " array([0.31119418, 0.78418601, 0.55294102, 0.51245642]),\n",
       " array([0.32639405, 0.78334233, 0.51794448, 0.47201939]),\n",
       " array([0.3410239 , 0.78159357, 0.48635378, 0.43634893]),\n",
       " array([0.35509594, 0.77904536, 0.45768527, 0.40460778])]"
      ]
     },
     "execution_count": 26,
     "metadata": {},
     "output_type": "execute_result"
    }
   ],
   "source": [
    "# Create a list of results for different flow rates\n",
    "\n",
    "q_list = np.linspace(20,60,11)\n",
    "x0 = [0.,0.,0.,0.]\n",
    "\n",
    "x_list = []\n",
    "\n",
    "for q in q_list:\n",
    "    cs = conc(q,f_kw,x0)\n",
    "    x_list.append(cs)\n",
    "    x0 = cs\n",
    "\n",
    "x_list"
   ]
  },
  {
   "cell_type": "markdown",
   "id": "7b16aae2-1e9e-46d3-9e7d-e9def3f5f2b4",
   "metadata": {},
   "source": [
    "### Make it work even if we have unconverged solutions"
   ]
  },
  {
   "cell_type": "code",
   "execution_count": 27,
   "id": "777e1357-ba2e-413f-9271-c8522ede81f8",
   "metadata": {},
   "outputs": [
    {
     "name": "stderr",
     "output_type": "stream",
     "text": [
      "C:\\Users\\mtnor\\AppData\\Local\\Temp\\ipykernel_41680\\361613151.py:12: RuntimeWarning: invalid value encountered in scalar power\n",
      "  -x[0]+ ca0 +vr*(-k[0]*x[0]-k[1]*x[0]**1.5+k[2]*x[2]**2)/q,\n",
      "C:\\Users\\mtnor\\AppData\\Local\\Temp\\ipykernel_41680\\361613151.py:14: RuntimeWarning: invalid value encountered in scalar power\n",
      "  -x[2]+vr*(k[1]*x[0]**1.5-k[2]*x[2]**2+k[3]*x[1]**2)/q,\n"
     ]
    },
    {
     "data": {
      "text/plain": [
       "[[nan, nan, nan, nan],\n",
       " array([0.18523342, 0.79297099, 1.25668508, 1.676808  ]),\n",
       " array([0.1949378 , 0.76842477, 1.01132644, 1.18095326]),\n",
       " array([0.21466781, 0.76962536, 0.87437807, 0.94771711]),\n",
       " array([0.23629059, 0.77481648, 0.77652822, 0.80045409]),\n",
       " array([0.2579712 , 0.77957118, 0.69951819, 0.69454998]),\n",
       " array([0.27909211, 0.78275507, 0.6358831 , 0.61270549]),\n",
       " array([0.29941822, 0.78416155, 0.58179405, 0.54658608]),\n",
       " array([0.31886581, 0.78388398, 0.53498184, 0.49157927]),\n",
       " array([0.33741933, 0.78210977, 0.49396059, 0.4448696 ]),\n",
       " array([0.35509594, 0.77904536, 0.45768527, 0.40460778])]"
      ]
     },
     "execution_count": 27,
     "metadata": {},
     "output_type": "execute_result"
    }
   ],
   "source": [
    "def conc(q,f_kw,x0):\n",
    "    new_f = lambda x: f_kw(x,q=q)\n",
    "    sol = root(new_f,x0)\n",
    "\n",
    "    if sol['success']==True:\n",
    "        return sol['x']\n",
    "    else:\n",
    "        return [np.nan,np.nan,np.nan,np.nan]\n",
    "\n",
    "q_list = np.linspace(10.,60.,11)\n",
    "x0 = [0.,0.,0.,0.]\n",
    "\n",
    "x_list = []\n",
    "\n",
    "for q in q_list:\n",
    "    cs = conc(q,f_kw,x0)\n",
    "    x_list.append(cs)\n",
    "\n",
    "x_list"
   ]
  },
  {
   "cell_type": "markdown",
   "id": "04c9084b-0bf3-4f0e-8fb6-b97fe30feb9b",
   "metadata": {},
   "source": [
    "## Let's organize the result\n",
    "1. Create a Pandas dataframe\n",
    "2. Create the long form dataframe\n",
    "3. Let Seaborn plot results"
   ]
  },
  {
   "cell_type": "code",
   "execution_count": 28,
   "id": "83dc2f46-7893-4bdd-8ba4-9e6e5dc1a380",
   "metadata": {},
   "outputs": [],
   "source": [
    "df = pd.DataFrame(x_list)"
   ]
  },
  {
   "cell_type": "code",
   "execution_count": 29,
   "id": "066f7103-fa9a-4257-b9e9-9fe6a61eda37",
   "metadata": {},
   "outputs": [
    {
     "data": {
      "text/html": [
       "<div>\n",
       "<style scoped>\n",
       "    .dataframe tbody tr th:only-of-type {\n",
       "        vertical-align: middle;\n",
       "    }\n",
       "\n",
       "    .dataframe tbody tr th {\n",
       "        vertical-align: top;\n",
       "    }\n",
       "\n",
       "    .dataframe thead th {\n",
       "        text-align: right;\n",
       "    }\n",
       "</style>\n",
       "<table border=\"1\" class=\"dataframe\">\n",
       "  <thead>\n",
       "    <tr style=\"text-align: right;\">\n",
       "      <th></th>\n",
       "      <th>0</th>\n",
       "      <th>1</th>\n",
       "      <th>2</th>\n",
       "      <th>3</th>\n",
       "    </tr>\n",
       "  </thead>\n",
       "  <tbody>\n",
       "    <tr>\n",
       "      <th>0</th>\n",
       "      <td>NaN</td>\n",
       "      <td>NaN</td>\n",
       "      <td>NaN</td>\n",
       "      <td>NaN</td>\n",
       "    </tr>\n",
       "    <tr>\n",
       "      <th>1</th>\n",
       "      <td>0.185233</td>\n",
       "      <td>0.792971</td>\n",
       "      <td>1.256685</td>\n",
       "      <td>1.676808</td>\n",
       "    </tr>\n",
       "    <tr>\n",
       "      <th>2</th>\n",
       "      <td>0.194938</td>\n",
       "      <td>0.768425</td>\n",
       "      <td>1.011326</td>\n",
       "      <td>1.180953</td>\n",
       "    </tr>\n",
       "    <tr>\n",
       "      <th>3</th>\n",
       "      <td>0.214668</td>\n",
       "      <td>0.769625</td>\n",
       "      <td>0.874378</td>\n",
       "      <td>0.947717</td>\n",
       "    </tr>\n",
       "    <tr>\n",
       "      <th>4</th>\n",
       "      <td>0.236291</td>\n",
       "      <td>0.774816</td>\n",
       "      <td>0.776528</td>\n",
       "      <td>0.800454</td>\n",
       "    </tr>\n",
       "    <tr>\n",
       "      <th>5</th>\n",
       "      <td>0.257971</td>\n",
       "      <td>0.779571</td>\n",
       "      <td>0.699518</td>\n",
       "      <td>0.694550</td>\n",
       "    </tr>\n",
       "    <tr>\n",
       "      <th>6</th>\n",
       "      <td>0.279092</td>\n",
       "      <td>0.782755</td>\n",
       "      <td>0.635883</td>\n",
       "      <td>0.612705</td>\n",
       "    </tr>\n",
       "    <tr>\n",
       "      <th>7</th>\n",
       "      <td>0.299418</td>\n",
       "      <td>0.784162</td>\n",
       "      <td>0.581794</td>\n",
       "      <td>0.546586</td>\n",
       "    </tr>\n",
       "    <tr>\n",
       "      <th>8</th>\n",
       "      <td>0.318866</td>\n",
       "      <td>0.783884</td>\n",
       "      <td>0.534982</td>\n",
       "      <td>0.491579</td>\n",
       "    </tr>\n",
       "    <tr>\n",
       "      <th>9</th>\n",
       "      <td>0.337419</td>\n",
       "      <td>0.782110</td>\n",
       "      <td>0.493961</td>\n",
       "      <td>0.444870</td>\n",
       "    </tr>\n",
       "    <tr>\n",
       "      <th>10</th>\n",
       "      <td>0.355096</td>\n",
       "      <td>0.779045</td>\n",
       "      <td>0.457685</td>\n",
       "      <td>0.404608</td>\n",
       "    </tr>\n",
       "  </tbody>\n",
       "</table>\n",
       "</div>"
      ],
      "text/plain": [
       "           0         1         2         3\n",
       "0        NaN       NaN       NaN       NaN\n",
       "1   0.185233  0.792971  1.256685  1.676808\n",
       "2   0.194938  0.768425  1.011326  1.180953\n",
       "3   0.214668  0.769625  0.874378  0.947717\n",
       "4   0.236291  0.774816  0.776528  0.800454\n",
       "5   0.257971  0.779571  0.699518  0.694550\n",
       "6   0.279092  0.782755  0.635883  0.612705\n",
       "7   0.299418  0.784162  0.581794  0.546586\n",
       "8   0.318866  0.783884  0.534982  0.491579\n",
       "9   0.337419  0.782110  0.493961  0.444870\n",
       "10  0.355096  0.779045  0.457685  0.404608"
      ]
     },
     "execution_count": 29,
     "metadata": {},
     "output_type": "execute_result"
    }
   ],
   "source": [
    "df"
   ]
  },
  {
   "cell_type": "code",
   "execution_count": 30,
   "id": "85f972ff-a7ea-4ae4-bed4-0f78055b0f05",
   "metadata": {},
   "outputs": [],
   "source": [
    "df['q'] = q_list"
   ]
  },
  {
   "cell_type": "code",
   "execution_count": 31,
   "id": "c33485bb-87d7-42e7-b142-bccd5c958e3f",
   "metadata": {},
   "outputs": [
    {
     "data": {
      "text/html": [
       "<div>\n",
       "<style scoped>\n",
       "    .dataframe tbody tr th:only-of-type {\n",
       "        vertical-align: middle;\n",
       "    }\n",
       "\n",
       "    .dataframe tbody tr th {\n",
       "        vertical-align: top;\n",
       "    }\n",
       "\n",
       "    .dataframe thead th {\n",
       "        text-align: right;\n",
       "    }\n",
       "</style>\n",
       "<table border=\"1\" class=\"dataframe\">\n",
       "  <thead>\n",
       "    <tr style=\"text-align: right;\">\n",
       "      <th></th>\n",
       "      <th>0</th>\n",
       "      <th>1</th>\n",
       "      <th>2</th>\n",
       "      <th>3</th>\n",
       "      <th>q</th>\n",
       "    </tr>\n",
       "  </thead>\n",
       "  <tbody>\n",
       "    <tr>\n",
       "      <th>0</th>\n",
       "      <td>NaN</td>\n",
       "      <td>NaN</td>\n",
       "      <td>NaN</td>\n",
       "      <td>NaN</td>\n",
       "      <td>10.0</td>\n",
       "    </tr>\n",
       "    <tr>\n",
       "      <th>1</th>\n",
       "      <td>0.185233</td>\n",
       "      <td>0.792971</td>\n",
       "      <td>1.256685</td>\n",
       "      <td>1.676808</td>\n",
       "      <td>15.0</td>\n",
       "    </tr>\n",
       "    <tr>\n",
       "      <th>2</th>\n",
       "      <td>0.194938</td>\n",
       "      <td>0.768425</td>\n",
       "      <td>1.011326</td>\n",
       "      <td>1.180953</td>\n",
       "      <td>20.0</td>\n",
       "    </tr>\n",
       "    <tr>\n",
       "      <th>3</th>\n",
       "      <td>0.214668</td>\n",
       "      <td>0.769625</td>\n",
       "      <td>0.874378</td>\n",
       "      <td>0.947717</td>\n",
       "      <td>25.0</td>\n",
       "    </tr>\n",
       "    <tr>\n",
       "      <th>4</th>\n",
       "      <td>0.236291</td>\n",
       "      <td>0.774816</td>\n",
       "      <td>0.776528</td>\n",
       "      <td>0.800454</td>\n",
       "      <td>30.0</td>\n",
       "    </tr>\n",
       "    <tr>\n",
       "      <th>5</th>\n",
       "      <td>0.257971</td>\n",
       "      <td>0.779571</td>\n",
       "      <td>0.699518</td>\n",
       "      <td>0.694550</td>\n",
       "      <td>35.0</td>\n",
       "    </tr>\n",
       "    <tr>\n",
       "      <th>6</th>\n",
       "      <td>0.279092</td>\n",
       "      <td>0.782755</td>\n",
       "      <td>0.635883</td>\n",
       "      <td>0.612705</td>\n",
       "      <td>40.0</td>\n",
       "    </tr>\n",
       "    <tr>\n",
       "      <th>7</th>\n",
       "      <td>0.299418</td>\n",
       "      <td>0.784162</td>\n",
       "      <td>0.581794</td>\n",
       "      <td>0.546586</td>\n",
       "      <td>45.0</td>\n",
       "    </tr>\n",
       "    <tr>\n",
       "      <th>8</th>\n",
       "      <td>0.318866</td>\n",
       "      <td>0.783884</td>\n",
       "      <td>0.534982</td>\n",
       "      <td>0.491579</td>\n",
       "      <td>50.0</td>\n",
       "    </tr>\n",
       "    <tr>\n",
       "      <th>9</th>\n",
       "      <td>0.337419</td>\n",
       "      <td>0.782110</td>\n",
       "      <td>0.493961</td>\n",
       "      <td>0.444870</td>\n",
       "      <td>55.0</td>\n",
       "    </tr>\n",
       "    <tr>\n",
       "      <th>10</th>\n",
       "      <td>0.355096</td>\n",
       "      <td>0.779045</td>\n",
       "      <td>0.457685</td>\n",
       "      <td>0.404608</td>\n",
       "      <td>60.0</td>\n",
       "    </tr>\n",
       "  </tbody>\n",
       "</table>\n",
       "</div>"
      ],
      "text/plain": [
       "           0         1         2         3     q\n",
       "0        NaN       NaN       NaN       NaN  10.0\n",
       "1   0.185233  0.792971  1.256685  1.676808  15.0\n",
       "2   0.194938  0.768425  1.011326  1.180953  20.0\n",
       "3   0.214668  0.769625  0.874378  0.947717  25.0\n",
       "4   0.236291  0.774816  0.776528  0.800454  30.0\n",
       "5   0.257971  0.779571  0.699518  0.694550  35.0\n",
       "6   0.279092  0.782755  0.635883  0.612705  40.0\n",
       "7   0.299418  0.784162  0.581794  0.546586  45.0\n",
       "8   0.318866  0.783884  0.534982  0.491579  50.0\n",
       "9   0.337419  0.782110  0.493961  0.444870  55.0\n",
       "10  0.355096  0.779045  0.457685  0.404608  60.0"
      ]
     },
     "execution_count": 31,
     "metadata": {},
     "output_type": "execute_result"
    }
   ],
   "source": [
    "df"
   ]
  },
  {
   "cell_type": "code",
   "execution_count": 32,
   "id": "b06354a1-4e1f-4081-a68a-3cab7780b9bc",
   "metadata": {},
   "outputs": [],
   "source": [
    "df.rename(columns={0: 'A', 1: 'B', 2: 'C', 3: 'D', 'q': 'Q (L^3/s)'}, inplace=True)"
   ]
  },
  {
   "cell_type": "code",
   "execution_count": 33,
   "id": "5ca5fe37-3314-4412-a91a-9c4539f0d2c0",
   "metadata": {},
   "outputs": [
    {
     "data": {
      "text/html": [
       "<div>\n",
       "<style scoped>\n",
       "    .dataframe tbody tr th:only-of-type {\n",
       "        vertical-align: middle;\n",
       "    }\n",
       "\n",
       "    .dataframe tbody tr th {\n",
       "        vertical-align: top;\n",
       "    }\n",
       "\n",
       "    .dataframe thead th {\n",
       "        text-align: right;\n",
       "    }\n",
       "</style>\n",
       "<table border=\"1\" class=\"dataframe\">\n",
       "  <thead>\n",
       "    <tr style=\"text-align: right;\">\n",
       "      <th></th>\n",
       "      <th>A</th>\n",
       "      <th>B</th>\n",
       "      <th>C</th>\n",
       "      <th>D</th>\n",
       "      <th>Q (L^3/s)</th>\n",
       "    </tr>\n",
       "  </thead>\n",
       "  <tbody>\n",
       "    <tr>\n",
       "      <th>0</th>\n",
       "      <td>NaN</td>\n",
       "      <td>NaN</td>\n",
       "      <td>NaN</td>\n",
       "      <td>NaN</td>\n",
       "      <td>10.0</td>\n",
       "    </tr>\n",
       "    <tr>\n",
       "      <th>1</th>\n",
       "      <td>0.185233</td>\n",
       "      <td>0.792971</td>\n",
       "      <td>1.256685</td>\n",
       "      <td>1.676808</td>\n",
       "      <td>15.0</td>\n",
       "    </tr>\n",
       "    <tr>\n",
       "      <th>2</th>\n",
       "      <td>0.194938</td>\n",
       "      <td>0.768425</td>\n",
       "      <td>1.011326</td>\n",
       "      <td>1.180953</td>\n",
       "      <td>20.0</td>\n",
       "    </tr>\n",
       "    <tr>\n",
       "      <th>3</th>\n",
       "      <td>0.214668</td>\n",
       "      <td>0.769625</td>\n",
       "      <td>0.874378</td>\n",
       "      <td>0.947717</td>\n",
       "      <td>25.0</td>\n",
       "    </tr>\n",
       "    <tr>\n",
       "      <th>4</th>\n",
       "      <td>0.236291</td>\n",
       "      <td>0.774816</td>\n",
       "      <td>0.776528</td>\n",
       "      <td>0.800454</td>\n",
       "      <td>30.0</td>\n",
       "    </tr>\n",
       "    <tr>\n",
       "      <th>5</th>\n",
       "      <td>0.257971</td>\n",
       "      <td>0.779571</td>\n",
       "      <td>0.699518</td>\n",
       "      <td>0.694550</td>\n",
       "      <td>35.0</td>\n",
       "    </tr>\n",
       "    <tr>\n",
       "      <th>6</th>\n",
       "      <td>0.279092</td>\n",
       "      <td>0.782755</td>\n",
       "      <td>0.635883</td>\n",
       "      <td>0.612705</td>\n",
       "      <td>40.0</td>\n",
       "    </tr>\n",
       "    <tr>\n",
       "      <th>7</th>\n",
       "      <td>0.299418</td>\n",
       "      <td>0.784162</td>\n",
       "      <td>0.581794</td>\n",
       "      <td>0.546586</td>\n",
       "      <td>45.0</td>\n",
       "    </tr>\n",
       "    <tr>\n",
       "      <th>8</th>\n",
       "      <td>0.318866</td>\n",
       "      <td>0.783884</td>\n",
       "      <td>0.534982</td>\n",
       "      <td>0.491579</td>\n",
       "      <td>50.0</td>\n",
       "    </tr>\n",
       "    <tr>\n",
       "      <th>9</th>\n",
       "      <td>0.337419</td>\n",
       "      <td>0.782110</td>\n",
       "      <td>0.493961</td>\n",
       "      <td>0.444870</td>\n",
       "      <td>55.0</td>\n",
       "    </tr>\n",
       "    <tr>\n",
       "      <th>10</th>\n",
       "      <td>0.355096</td>\n",
       "      <td>0.779045</td>\n",
       "      <td>0.457685</td>\n",
       "      <td>0.404608</td>\n",
       "      <td>60.0</td>\n",
       "    </tr>\n",
       "  </tbody>\n",
       "</table>\n",
       "</div>"
      ],
      "text/plain": [
       "           A         B         C         D  Q (L^3/s)\n",
       "0        NaN       NaN       NaN       NaN       10.0\n",
       "1   0.185233  0.792971  1.256685  1.676808       15.0\n",
       "2   0.194938  0.768425  1.011326  1.180953       20.0\n",
       "3   0.214668  0.769625  0.874378  0.947717       25.0\n",
       "4   0.236291  0.774816  0.776528  0.800454       30.0\n",
       "5   0.257971  0.779571  0.699518  0.694550       35.0\n",
       "6   0.279092  0.782755  0.635883  0.612705       40.0\n",
       "7   0.299418  0.784162  0.581794  0.546586       45.0\n",
       "8   0.318866  0.783884  0.534982  0.491579       50.0\n",
       "9   0.337419  0.782110  0.493961  0.444870       55.0\n",
       "10  0.355096  0.779045  0.457685  0.404608       60.0"
      ]
     },
     "execution_count": 33,
     "metadata": {},
     "output_type": "execute_result"
    }
   ],
   "source": [
    "df"
   ]
  },
  {
   "cell_type": "code",
   "execution_count": 34,
   "id": "47b16147-92d6-4aa7-9f9b-a0a570f12220",
   "metadata": {},
   "outputs": [],
   "source": [
    "df_melted = df.melt(id_vars=['Q (L^3/s)'], var_name='Species', value_name = 'Concentration (g-mol/L)')"
   ]
  },
  {
   "cell_type": "code",
   "execution_count": 35,
   "id": "e89b85ab-9fc4-41e0-bdcd-a2766eec1bec",
   "metadata": {
    "scrolled": true
   },
   "outputs": [
    {
     "data": {
      "text/html": [
       "<div>\n",
       "<style scoped>\n",
       "    .dataframe tbody tr th:only-of-type {\n",
       "        vertical-align: middle;\n",
       "    }\n",
       "\n",
       "    .dataframe tbody tr th {\n",
       "        vertical-align: top;\n",
       "    }\n",
       "\n",
       "    .dataframe thead th {\n",
       "        text-align: right;\n",
       "    }\n",
       "</style>\n",
       "<table border=\"1\" class=\"dataframe\">\n",
       "  <thead>\n",
       "    <tr style=\"text-align: right;\">\n",
       "      <th></th>\n",
       "      <th>Q (L^3/s)</th>\n",
       "      <th>Species</th>\n",
       "      <th>Concentration (g-mol/L)</th>\n",
       "    </tr>\n",
       "  </thead>\n",
       "  <tbody>\n",
       "    <tr>\n",
       "      <th>0</th>\n",
       "      <td>10.0</td>\n",
       "      <td>A</td>\n",
       "      <td>NaN</td>\n",
       "    </tr>\n",
       "    <tr>\n",
       "      <th>1</th>\n",
       "      <td>15.0</td>\n",
       "      <td>A</td>\n",
       "      <td>0.185233</td>\n",
       "    </tr>\n",
       "    <tr>\n",
       "      <th>2</th>\n",
       "      <td>20.0</td>\n",
       "      <td>A</td>\n",
       "      <td>0.194938</td>\n",
       "    </tr>\n",
       "    <tr>\n",
       "      <th>3</th>\n",
       "      <td>25.0</td>\n",
       "      <td>A</td>\n",
       "      <td>0.214668</td>\n",
       "    </tr>\n",
       "    <tr>\n",
       "      <th>4</th>\n",
       "      <td>30.0</td>\n",
       "      <td>A</td>\n",
       "      <td>0.236291</td>\n",
       "    </tr>\n",
       "    <tr>\n",
       "      <th>5</th>\n",
       "      <td>35.0</td>\n",
       "      <td>A</td>\n",
       "      <td>0.257971</td>\n",
       "    </tr>\n",
       "    <tr>\n",
       "      <th>6</th>\n",
       "      <td>40.0</td>\n",
       "      <td>A</td>\n",
       "      <td>0.279092</td>\n",
       "    </tr>\n",
       "    <tr>\n",
       "      <th>7</th>\n",
       "      <td>45.0</td>\n",
       "      <td>A</td>\n",
       "      <td>0.299418</td>\n",
       "    </tr>\n",
       "    <tr>\n",
       "      <th>8</th>\n",
       "      <td>50.0</td>\n",
       "      <td>A</td>\n",
       "      <td>0.318866</td>\n",
       "    </tr>\n",
       "    <tr>\n",
       "      <th>9</th>\n",
       "      <td>55.0</td>\n",
       "      <td>A</td>\n",
       "      <td>0.337419</td>\n",
       "    </tr>\n",
       "    <tr>\n",
       "      <th>10</th>\n",
       "      <td>60.0</td>\n",
       "      <td>A</td>\n",
       "      <td>0.355096</td>\n",
       "    </tr>\n",
       "    <tr>\n",
       "      <th>11</th>\n",
       "      <td>10.0</td>\n",
       "      <td>B</td>\n",
       "      <td>NaN</td>\n",
       "    </tr>\n",
       "    <tr>\n",
       "      <th>12</th>\n",
       "      <td>15.0</td>\n",
       "      <td>B</td>\n",
       "      <td>0.792971</td>\n",
       "    </tr>\n",
       "    <tr>\n",
       "      <th>13</th>\n",
       "      <td>20.0</td>\n",
       "      <td>B</td>\n",
       "      <td>0.768425</td>\n",
       "    </tr>\n",
       "    <tr>\n",
       "      <th>14</th>\n",
       "      <td>25.0</td>\n",
       "      <td>B</td>\n",
       "      <td>0.769625</td>\n",
       "    </tr>\n",
       "    <tr>\n",
       "      <th>15</th>\n",
       "      <td>30.0</td>\n",
       "      <td>B</td>\n",
       "      <td>0.774816</td>\n",
       "    </tr>\n",
       "    <tr>\n",
       "      <th>16</th>\n",
       "      <td>35.0</td>\n",
       "      <td>B</td>\n",
       "      <td>0.779571</td>\n",
       "    </tr>\n",
       "    <tr>\n",
       "      <th>17</th>\n",
       "      <td>40.0</td>\n",
       "      <td>B</td>\n",
       "      <td>0.782755</td>\n",
       "    </tr>\n",
       "    <tr>\n",
       "      <th>18</th>\n",
       "      <td>45.0</td>\n",
       "      <td>B</td>\n",
       "      <td>0.784162</td>\n",
       "    </tr>\n",
       "    <tr>\n",
       "      <th>19</th>\n",
       "      <td>50.0</td>\n",
       "      <td>B</td>\n",
       "      <td>0.783884</td>\n",
       "    </tr>\n",
       "    <tr>\n",
       "      <th>20</th>\n",
       "      <td>55.0</td>\n",
       "      <td>B</td>\n",
       "      <td>0.782110</td>\n",
       "    </tr>\n",
       "    <tr>\n",
       "      <th>21</th>\n",
       "      <td>60.0</td>\n",
       "      <td>B</td>\n",
       "      <td>0.779045</td>\n",
       "    </tr>\n",
       "    <tr>\n",
       "      <th>22</th>\n",
       "      <td>10.0</td>\n",
       "      <td>C</td>\n",
       "      <td>NaN</td>\n",
       "    </tr>\n",
       "    <tr>\n",
       "      <th>23</th>\n",
       "      <td>15.0</td>\n",
       "      <td>C</td>\n",
       "      <td>1.256685</td>\n",
       "    </tr>\n",
       "    <tr>\n",
       "      <th>24</th>\n",
       "      <td>20.0</td>\n",
       "      <td>C</td>\n",
       "      <td>1.011326</td>\n",
       "    </tr>\n",
       "    <tr>\n",
       "      <th>25</th>\n",
       "      <td>25.0</td>\n",
       "      <td>C</td>\n",
       "      <td>0.874378</td>\n",
       "    </tr>\n",
       "    <tr>\n",
       "      <th>26</th>\n",
       "      <td>30.0</td>\n",
       "      <td>C</td>\n",
       "      <td>0.776528</td>\n",
       "    </tr>\n",
       "    <tr>\n",
       "      <th>27</th>\n",
       "      <td>35.0</td>\n",
       "      <td>C</td>\n",
       "      <td>0.699518</td>\n",
       "    </tr>\n",
       "    <tr>\n",
       "      <th>28</th>\n",
       "      <td>40.0</td>\n",
       "      <td>C</td>\n",
       "      <td>0.635883</td>\n",
       "    </tr>\n",
       "    <tr>\n",
       "      <th>29</th>\n",
       "      <td>45.0</td>\n",
       "      <td>C</td>\n",
       "      <td>0.581794</td>\n",
       "    </tr>\n",
       "    <tr>\n",
       "      <th>30</th>\n",
       "      <td>50.0</td>\n",
       "      <td>C</td>\n",
       "      <td>0.534982</td>\n",
       "    </tr>\n",
       "    <tr>\n",
       "      <th>31</th>\n",
       "      <td>55.0</td>\n",
       "      <td>C</td>\n",
       "      <td>0.493961</td>\n",
       "    </tr>\n",
       "    <tr>\n",
       "      <th>32</th>\n",
       "      <td>60.0</td>\n",
       "      <td>C</td>\n",
       "      <td>0.457685</td>\n",
       "    </tr>\n",
       "    <tr>\n",
       "      <th>33</th>\n",
       "      <td>10.0</td>\n",
       "      <td>D</td>\n",
       "      <td>NaN</td>\n",
       "    </tr>\n",
       "    <tr>\n",
       "      <th>34</th>\n",
       "      <td>15.0</td>\n",
       "      <td>D</td>\n",
       "      <td>1.676808</td>\n",
       "    </tr>\n",
       "    <tr>\n",
       "      <th>35</th>\n",
       "      <td>20.0</td>\n",
       "      <td>D</td>\n",
       "      <td>1.180953</td>\n",
       "    </tr>\n",
       "    <tr>\n",
       "      <th>36</th>\n",
       "      <td>25.0</td>\n",
       "      <td>D</td>\n",
       "      <td>0.947717</td>\n",
       "    </tr>\n",
       "    <tr>\n",
       "      <th>37</th>\n",
       "      <td>30.0</td>\n",
       "      <td>D</td>\n",
       "      <td>0.800454</td>\n",
       "    </tr>\n",
       "    <tr>\n",
       "      <th>38</th>\n",
       "      <td>35.0</td>\n",
       "      <td>D</td>\n",
       "      <td>0.694550</td>\n",
       "    </tr>\n",
       "    <tr>\n",
       "      <th>39</th>\n",
       "      <td>40.0</td>\n",
       "      <td>D</td>\n",
       "      <td>0.612705</td>\n",
       "    </tr>\n",
       "    <tr>\n",
       "      <th>40</th>\n",
       "      <td>45.0</td>\n",
       "      <td>D</td>\n",
       "      <td>0.546586</td>\n",
       "    </tr>\n",
       "    <tr>\n",
       "      <th>41</th>\n",
       "      <td>50.0</td>\n",
       "      <td>D</td>\n",
       "      <td>0.491579</td>\n",
       "    </tr>\n",
       "    <tr>\n",
       "      <th>42</th>\n",
       "      <td>55.0</td>\n",
       "      <td>D</td>\n",
       "      <td>0.444870</td>\n",
       "    </tr>\n",
       "    <tr>\n",
       "      <th>43</th>\n",
       "      <td>60.0</td>\n",
       "      <td>D</td>\n",
       "      <td>0.404608</td>\n",
       "    </tr>\n",
       "  </tbody>\n",
       "</table>\n",
       "</div>"
      ],
      "text/plain": [
       "    Q (L^3/s) Species  Concentration (g-mol/L)\n",
       "0        10.0       A                      NaN\n",
       "1        15.0       A                 0.185233\n",
       "2        20.0       A                 0.194938\n",
       "3        25.0       A                 0.214668\n",
       "4        30.0       A                 0.236291\n",
       "5        35.0       A                 0.257971\n",
       "6        40.0       A                 0.279092\n",
       "7        45.0       A                 0.299418\n",
       "8        50.0       A                 0.318866\n",
       "9        55.0       A                 0.337419\n",
       "10       60.0       A                 0.355096\n",
       "11       10.0       B                      NaN\n",
       "12       15.0       B                 0.792971\n",
       "13       20.0       B                 0.768425\n",
       "14       25.0       B                 0.769625\n",
       "15       30.0       B                 0.774816\n",
       "16       35.0       B                 0.779571\n",
       "17       40.0       B                 0.782755\n",
       "18       45.0       B                 0.784162\n",
       "19       50.0       B                 0.783884\n",
       "20       55.0       B                 0.782110\n",
       "21       60.0       B                 0.779045\n",
       "22       10.0       C                      NaN\n",
       "23       15.0       C                 1.256685\n",
       "24       20.0       C                 1.011326\n",
       "25       25.0       C                 0.874378\n",
       "26       30.0       C                 0.776528\n",
       "27       35.0       C                 0.699518\n",
       "28       40.0       C                 0.635883\n",
       "29       45.0       C                 0.581794\n",
       "30       50.0       C                 0.534982\n",
       "31       55.0       C                 0.493961\n",
       "32       60.0       C                 0.457685\n",
       "33       10.0       D                      NaN\n",
       "34       15.0       D                 1.676808\n",
       "35       20.0       D                 1.180953\n",
       "36       25.0       D                 0.947717\n",
       "37       30.0       D                 0.800454\n",
       "38       35.0       D                 0.694550\n",
       "39       40.0       D                 0.612705\n",
       "40       45.0       D                 0.546586\n",
       "41       50.0       D                 0.491579\n",
       "42       55.0       D                 0.444870\n",
       "43       60.0       D                 0.404608"
      ]
     },
     "execution_count": 35,
     "metadata": {},
     "output_type": "execute_result"
    }
   ],
   "source": [
    "df_melted"
   ]
  },
  {
   "cell_type": "markdown",
   "id": "f0d62c70-c43e-4273-a842-78c170a7b14d",
   "metadata": {},
   "source": [
    "## We can easily create a labeled plot with all of our results!"
   ]
  },
  {
   "cell_type": "code",
   "execution_count": 36,
   "id": "f50a6af1-ba43-4248-8a05-3e5ecdee43d1",
   "metadata": {},
   "outputs": [
    {
     "data": {
      "text/plain": [
       "<Axes: xlabel='Q (L^3/s)', ylabel='Concentration (g-mol/L)'>"
      ]
     },
     "execution_count": 36,
     "metadata": {},
     "output_type": "execute_result"
    },
    {
     "data": {
      "image/png": "[encoded data removed]",
      "text/plain": [
       "<Figure size 640x480 with 1 Axes>"
      ]
     },
     "metadata": {},
     "output_type": "display_data"
    }
   ],
   "source": [
    "sns.lineplot(x='Q (L^3/s)', y='Concentration (g-mol/L)', hue='Species', data=df_melted, marker='o')"
   ]
  },
  {
   "cell_type": "markdown",
   "id": "56868a1c-a306-4914-bfc6-d5207ffb25d0",
   "metadata": {},
   "source": [
    "### Try it for different numbers of flow rates and different flow rate ranges\n",
    "\n",
    "Bonus - look at rate constants\n",
    "\n",
    "Explore Seaborn options to customize your plot"
   ]
  },
  {
   "cell_type": "code",
   "execution_count": 37,
   "id": "b96eeb57-338c-4c68-bbc2-b210769c86bb",
   "metadata": {},
   "outputs": [
    {
     "name": "stderr",
     "output_type": "stream",
     "text": [
      "C:\\Users\\mtnor\\AppData\\Local\\Temp\\ipykernel_41680\\361613151.py:12: RuntimeWarning: invalid value encountered in scalar power\n",
      "  -x[0]+ ca0 +vr*(-k[0]*x[0]-k[1]*x[0]**1.5+k[2]*x[2]**2)/q,\n",
      "C:\\Users\\mtnor\\AppData\\Local\\Temp\\ipykernel_41680\\361613151.py:14: RuntimeWarning: invalid value encountered in scalar power\n",
      "  -x[2]+vr*(k[1]*x[0]**1.5-k[2]*x[2]**2+k[3]*x[1]**2)/q,\n"
     ]
    },
    {
     "data": {
      "image/png": "[encoded data removed]",
      "text/plain": [
       "<Figure size 640x480 with 1 Axes>"
      ]
     },
     "metadata": {},
     "output_type": "display_data"
    }
   ],
   "source": [
    "q_list = np.linspace(10.,100.,41)\n",
    "x0 = [0.,0.,0.,0.]\n",
    "x_list = []\n",
    "\n",
    "for q in q_list:\n",
    "    cs = conc(q,f_kw,x0)\n",
    "    x_list.append(cs)\n",
    "\n",
    "df = pd.DataFrame(x_list)\n",
    "df['q'] = q_list\n",
    "df.rename(columns={0: 'A', 1: 'B', 2: 'C', 3: 'D', 'q': 'Q (L^3/s)'}, inplace=True)\n",
    "df_melted = df.melt(id_vars=['Q (L^3/s)'], var_name='Species', value_name = 'Concentration (g-mol/L)')\n",
    "sns.lineplot(x='Q (L^3/s)', y='Concentration (g-mol/L)', hue='Species', data=df_melted, marker='o');"
   ]
  },
  {
   "cell_type": "markdown",
   "id": "846254b7-41b3-4439-8d24-af551719ebcd",
   "metadata": {},
   "source": [
    "## Let's work harder for a solution when q~10 L^3/s\n",
    "\n",
    "There are two potential issues:\n",
    "1. We need a better inital guess for x0\n",
    "2. Our numerical Jacobian is not accurate enough"
   ]
  },
  {
   "cell_type": "code",
   "execution_count": 38,
   "id": "4dc97ac0-977c-4bf7-bbf5-e1e245b9b971",
   "metadata": {},
   "outputs": [
    {
     "data": {
      "text/plain": [
       " message: The iteration is not making good progress, as measured by the \n",
       "           improvement from the last five Jacobian evaluations.\n",
       " success: False\n",
       "  status: 4\n",
       "     fun: [ 3.617e-03  2.112e-03  2.390e-03  5.239e-07]\n",
       "       x: [ 2.907e-01  1.072e+00  2.202e+00  4.071e+00]\n",
       "  method: hybr\n",
       "    nfev: 64\n",
       "    fjac: [[-5.362e-01  8.413e-01  6.805e-02  0.000e+00]\n",
       "           [-2.999e-01 -2.454e-01  6.706e-01  6.326e-01]\n",
       "           [ 2.449e-01  2.004e-01 -5.477e-01  7.745e-01]\n",
       "           [-7.500e-01 -4.380e-01 -4.957e-01  2.807e-05]]\n",
       "       r: [ 2.104e+01 -6.713e+00 -1.246e+00  0.000e+00  1.200e+01\n",
       "           -2.562e+00 -6.326e-01  2.092e+00 -7.745e-01 -2.807e-05]\n",
       "     qtf: [ 9.832e-07 -5.266e-07  9.715e-07 -4.822e-03]"
      ]
     },
     "execution_count": 38,
     "metadata": {},
     "output_type": "execute_result"
    }
   ],
   "source": [
    "x0 = [.3,.3,.3,.3]\n",
    "q = 11.3\n",
    "\n",
    "new_f = lambda x: f_kw(x,q=q)\n",
    "sol = root(new_f,x0)\n",
    "sol"
   ]
  },
  {
   "cell_type": "markdown",
   "id": "16a2d025-5560-4265-a29f-b501634641ee",
   "metadata": {},
   "source": [
    "### This is a crude form of continuation\n",
    "\n",
    "We use an initial guess from a nearby solution (close q)"
   ]
  },
  {
   "cell_type": "code",
   "execution_count": 39,
   "id": "3dba188b-8d12-4d30-bb2c-f8bdeec1426c",
   "metadata": {},
   "outputs": [
    {
     "data": {
      "text/plain": [
       "array([0.26527435, 1.01796456, 2.04372906, 3.63597138])"
      ]
     },
     "execution_count": 39,
     "metadata": {},
     "output_type": "execute_result"
    }
   ],
   "source": [
    "x0 = [.3,.3,.3,.3]\n",
    "\n",
    "cs = conc(11.4,f_kw,x0)\n",
    "cs"
   ]
  },
  {
   "cell_type": "code",
   "execution_count": 40,
   "id": "56cfcca4-6af8-45ae-a35b-8248fea43a33",
   "metadata": {},
   "outputs": [
    {
     "data": {
      "text/plain": [
       "array([0.26813817, 1.02422753, 2.06178852, 3.6840809 ])"
      ]
     },
     "execution_count": 40,
     "metadata": {},
     "output_type": "execute_result"
    }
   ],
   "source": [
    "# Use the solution for q=11.4 as out initial guess for q=11.39\n",
    "x0 = cs\n",
    "\n",
    "cs = conc(11.39,f_kw,x0)\n",
    "cs"
   ]
  },
  {
   "cell_type": "code",
   "execution_count": 41,
   "id": "4873e910-ff76-4633-b1a7-c51b7969c42e",
   "metadata": {},
   "outputs": [
    {
     "data": {
      "text/plain": [
       "array([0.27151353, 1.03154842, 2.08282148, 3.74021845])"
      ]
     },
     "execution_count": 41,
     "metadata": {},
     "output_type": "execute_result"
    }
   ],
   "source": [
    "# Use the solution for q=11.4 as out initial guess for q=11.38\n",
    "x0 = cs\n",
    "\n",
    "cs = conc(11.38,f_kw,x0)\n",
    "cs"
   ]
  },
  {
   "cell_type": "code",
   "execution_count": 42,
   "id": "f7c7bf63-a14a-41b4-8c57-c25fd8cd5be8",
   "metadata": {
    "scrolled": true
   },
   "outputs": [
    {
     "name": "stdout",
     "output_type": "stream",
     "text": [
      "11.4 [0.26527435 1.01796456 2.04372906 3.63597138]\n",
      "11.3975 [0.26595253 1.01945206 2.04802402 3.64740516]\n",
      "11.395 [0.26665439 1.02098865 2.05245693 3.65921129]\n",
      "11.3925 [0.2673821  1.02257875 2.05704027 3.67142351]\n",
      "11.39 [0.26813817 1.02422753 2.06178852 3.6840809 ]\n",
      "11.3875 [0.26892551 1.02594101 2.06671862 3.69722925]\n",
      "11.385 [0.2697476  1.02772632 2.07185061 3.71092273]\n",
      "11.3825 [0.27060859 1.029592   2.07720851 3.7252262 ]\n",
      "11.38 [0.27151353 1.03154842 2.08282148 3.74021845]\n",
      "11.3775 [0.27246867 1.0336084  2.08872552 3.75599678]\n",
      "11.375 [0.27348183 1.03578807 2.09496599 3.77268371]\n",
      "11.3725 [0.27456316 1.03810822 2.10160132 3.79043719]\n",
      "11.37 [0.2757261  1.04059644 2.10870911 3.80946685]\n",
      "11.3675 [0.27698915 1.04329074 2.11639616 3.83006135]\n",
      "11.365 [0.27837906 1.04624598 2.12481673 3.85263756]\n",
      "11.3625 [0.27993705 1.04954676 2.13420863 3.87783813]\n",
      "11.36 [0.28173301 1.05333638 2.14497473 3.90675187]\n",
      "11.3575 [0.2839047  1.05789733 2.15790914 3.941525  ]\n",
      "11.355 [0.28681638 1.06397633 2.17511113 3.98783134]\n",
      "11.3525 [nan, nan, nan, nan]\n",
      "11.35 [nan, nan, nan, nan]\n"
     ]
    }
   ],
   "source": [
    "q_list = np.linspace(11.4,11.35,21)\n",
    "x0 = [.3,.3,.3,.3]\n",
    "\n",
    "x_lowq_list = []\n",
    "\n",
    "for q in q_list:\n",
    "    cs = conc(q,f_kw,x0)\n",
    "    x_lowq_list.append(cs)\n",
    "    print(q, cs)\n",
    "    x0 = cs"
   ]
  },
  {
   "cell_type": "markdown",
   "id": "13b160d4-1fa6-4805-b5e4-01b201a9b203",
   "metadata": {},
   "source": [
    "## Add this result to our plot"
   ]
  },
  {
   "cell_type": "code",
   "execution_count": 43,
   "id": "1e16066f-a356-4b35-8375-371ea7ab86c0",
   "metadata": {},
   "outputs": [
    {
     "data": {
      "image/png": "[encoded data removed]",
      "text/plain": [
       "<Figure size 640x480 with 1 Axes>"
      ]
     },
     "metadata": {},
     "output_type": "display_data"
    }
   ],
   "source": [
    "df_lowq = pd.DataFrame(x_lowq_list)\n",
    "df_lowq['q'] = q_list\n",
    "df_lowq.rename(columns={0: 'A', 1: 'B', 2: 'C', 3: 'D', 'q': 'Q (L^3/s)'}, inplace=True)\n",
    "df_mixed = pd.concat([df,df_lowq],ignore_index=True)\n",
    "df_mixed.sort_values(by='Q (L^3/s)',inplace=True)\n",
    "df_mixed_melted = df_mixed.melt(id_vars=['Q (L^3/s)'], var_name='Species', value_name = 'Concentration (g-mol/L)')\n",
    "sns.lineplot(x='Q (L^3/s)', y='Concentration (g-mol/L)', hue='Species', data=df_mixed_melted, marker='o');"
   ]
  },
  {
   "cell_type": "markdown",
   "id": "14bde181-49f6-4514-bce2-b852f5a6894a",
   "metadata": {},
   "source": [
    "### This is a form of continuation methods"
   ]
  }
 ],
 "metadata": {
  "kernelspec": {
   "display_name": ".venv",
   "language": "python",
   "name": "python3"
  },
  "language_info": {
   "codemirror_mode": {
    "name": "ipython",
    "version": 3
   },
   "file_extension": ".py",
   "mimetype": "text/x-python",
   "name": "python",
   "nbconvert_exporter": "python",
   "pygments_lexer": "ipython3",
   "version": "3.12.9"
  }
 },
 "nbformat": 4,
 "nbformat_minor": 5
}
