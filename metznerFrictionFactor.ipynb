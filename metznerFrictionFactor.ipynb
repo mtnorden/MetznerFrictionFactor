{
 "cells": [
  {
   "cell_type": "code",
   "execution_count": 4,
   "metadata": {},
   "outputs": [],
   "source": [
    "import numpy as np\n",
    "import matplotlib.pyplot as plt\n",
    "from scipy.optimize import root"
   ]
  },
  {
   "cell_type": "code",
   "execution_count": null,
   "metadata": {},
   "outputs": [
    {
     "name": "stderr",
     "output_type": "stream",
     "text": [
      "C:\\Users\\mtnor\\AppData\\Local\\Temp\\ipykernel_32724\\154052316.py:2: RuntimeWarning: invalid value encountered in power\n",
      "  return ((4.0/np.power(nPrime,0.75))*np.log10(reynolds*np.power(frictionFactor,1-(nPrime/2)))) - (0.4 / (np.power(nPrime,1.2))) - np.sqrt(1/frictionFactor)\n",
      "C:\\Users\\mtnor\\AppData\\Local\\Temp\\ipykernel_32724\\154052316.py:2: RuntimeWarning: invalid value encountered in sqrt\n",
      "  return ((4.0/np.power(nPrime,0.75))*np.log10(reynolds*np.power(frictionFactor,1-(nPrime/2)))) - (0.4 / (np.power(nPrime,1.2))) - np.sqrt(1/frictionFactor)\n"
     ]
    },
    {
     "data": {
      "text/plain": [
       " message: The relative error between two consecutive iterates is at most 0.000000\n",
       " success: True\n",
       "  status: 2\n",
       "     fun: [-3.553e-15]\n",
       "       x: [ 1.684e-03]\n",
       "   cov_x: [[ 6.158e-09]]\n",
       "  method: lm\n",
       "    nfev: 21\n",
       "    fjac: [[-1.274e+04]]\n",
       "    ipvt: [0]\n",
       "     qtf: [ 1.976e-08]"
      ]
     },
     "execution_count": 24,
     "metadata": {},
     "output_type": "execute_result"
    }
   ],
   "source": [
    "def fanningFrictionFactor(frictionFactor:float,reynolds:float,nPrime:float):\n",
    "    return np.log10(np.power(frictionFactor,1-(nPrime/2))) - np.sqrt(1/frictionFactor)\n",
    "\n",
    "sol = root(fanningFrictionFactor,.02,args=(10000,.1),method='lm')\n",
    "sol"
   ]
  },
  {
   "cell_type": "code",
   "execution_count": null,
   "metadata": {},
   "outputs": [],
   "source": []
  }
 ],
 "metadata": {
  "kernelspec": {
   "display_name": ".venv",
   "language": "python",
   "name": "python3"
  },
  "language_info": {
   "codemirror_mode": {
    "name": "ipython",
    "version": 3
   },
   "file_extension": ".py",
   "mimetype": "text/x-python",
   "name": "python",
   "nbconvert_exporter": "python",
   "pygments_lexer": "ipython3",
   "version": "3.12.9"
  }
 },
 "nbformat": 4,
 "nbformat_minor": 2
}
